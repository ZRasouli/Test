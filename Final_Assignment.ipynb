{
  "metadata": {
    "kernelspec": {
      "name": "python",
      "display_name": "Pyolite",
      "language": "python"
    },
    "language_info": {
      "codemirror_mode": {
        "name": "python",
        "version": 3
      },
      "file_extension": ".py",
      "mimetype": "text/x-python",
      "name": "python",
      "nbconvert_exporter": "python",
      "pygments_lexer": "ipython3",
      "version": "3.8"
    }
  },
  "nbformat_minor": 4,
  "nbformat": 4,
  "cells": [
    {
      "cell_type": "markdown",
      "source": "<center>\n    <img src=\"https://s3-api.us-geo.objectstorage.softlayer.net/cf-courses-data/CognitiveClass/Logos/organization_logo/organization_logo.png\" width=\"300\" alt=\"cognitiveclass.ai logo\"  />\n</center>\n",
      "metadata": {}
    },
    {
      "cell_type": "markdown",
      "source": "# My Jupyter Notebook on IBM Watson Studio",
      "metadata": {}
    },
    {
      "cell_type": "markdown",
      "source": "**Zahra Rasouli**\n\nStudent",
      "metadata": {}
    },
    {
      "cell_type": "markdown",
      "source": "*I am interested in data science because it is a growing field and in will have even a bigger role in the job market in the future. I also find it interesting because it involves statistical thinking and programming.*",
      "metadata": {}
    },
    {
      "cell_type": "markdown",
      "source": "## My code in cell 5 will add numbers from 0 and 10",
      "metadata": {}
    },
    {
      "cell_type": "code",
      "source": "def adder(n):\n    sum = 0\n    for num in range(n+1):\n        sum += num\n    return sum\n\nprint(adder(10))",
      "metadata": {
        "trusted": true
      },
      "execution_count": 2,
      "outputs": [
        {
          "name": "stdout",
          "text": "55\n",
          "output_type": "stream"
        }
      ]
    },
    {
      "cell_type": "markdown",
      "source": "Bulleted List:\n - first\n - second\n - third\n\n***\n \nNumbered List:\n1. first\n2. second\n3. third\n\n***\n\nTo go to IBM Cloud Pak for Data click [here](https://www.ibm.com/products/cloud-pak-for-data).",
      "metadata": {}
    },
    {
      "cell_type": "code",
      "source": "",
      "metadata": {},
      "execution_count": null,
      "outputs": []
    }
  ]
}